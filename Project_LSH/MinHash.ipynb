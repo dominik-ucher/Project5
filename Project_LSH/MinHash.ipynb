{
 "cells": [
  {
   "cell_type": "code",
   "execution_count": 19,
   "id": "afe94871",
   "metadata": {},
   "outputs": [],
   "source": [
    "import numpy as np\n",
    "import hashlib\n",
    "import math"
   ]
  },
  {
   "cell_type": "markdown",
   "id": "6e4f5bf9",
   "metadata": {},
   "source": [
    "Name A: Dominik Ucher\n",
    "\n",
    "Name B: "
   ]
  },
  {
   "cell_type": "code",
   "execution_count": 20,
   "id": "42d4a72d",
   "metadata": {},
   "outputs": [],
   "source": [
    "#Four (4) 'relevant' TDT4305 sentences\n",
    "\n",
    "Sentence_1 = \"The Big Data platform for students is Blackboard\"\n",
    "Sentence_2 = \"Questions on MinHash project by NTNU students is on Piazza\"\n",
    "Sentence_3 = \"NTNU Big Data platform are Blackboard and Piazza\"\n",
    "Sentence_4 = \"The project data for students are on Blackboard not Piazza\""
   ]
  },
  {
   "cell_type": "code",
   "execution_count": 21,
   "id": "f619be36",
   "metadata": {},
   "outputs": [],
   "source": [
    "unique_words = ['big', 'blackboard', 'data', 'minhash', 'ntnu', 'piazza', 'platform', 'project', 'questions', 'students'] # Enter the unique words list here"
   ]
  },
  {
   "cell_type": "code",
   "execution_count": 22,
   "id": "e633fa9c",
   "metadata": {},
   "outputs": [
    {
     "name": "stdout",
     "output_type": "stream",
     "text": [
      "Format: ['word', 'word', 'word' ...] & watch out for white spaces before comma\n",
      "Correct! Your dictionary matched!\n"
     ]
    }
   ],
   "source": [
    "# User input\n",
    "\n",
    "print(f\"Format: ['word', 'word', 'word' ...] & watch out for white spaces before comma\")\n",
    "user_input = str(input(\"Enter your created list of unique words: \")) \n",
    "\n",
    "f = open(\"encrypted_dictionary.txt\", \"r\")\n",
    "encrypted_words = f.read()\n",
    "\n",
    "\n",
    "# Hash the user input\n",
    "hashed_user_input = hashlib.sha256(user_input.encode()).hexdigest()\n",
    "\n",
    "# Compare with the stored hash\n",
    "if hashed_user_input == encrypted_words:\n",
    "    print(\"Correct! Your dictionary matched!\")\n",
    "else:\n",
    "    print(\"Incorrect! Try again.\")"
   ]
  },
  {
   "cell_type": "code",
   "execution_count": 23,
   "id": "0b10d096",
   "metadata": {},
   "outputs": [],
   "source": [
    "Input_Matrix = [] # Create an empty array of input matrix\n",
    "\n",
    "## Helper\n",
    "unique_words = ['big', 'data', 'platform', 'students', 'blackboard', 'questions', 'minhash', 'project', 'ntnu', 'piazza'] # Enter the unique words list here\n",
    "Sentences = [\"The Big Data platform for students is Blackboard\",\"Questions on MinHash project by NTNU students is on Piazza\",\"NTNU Big Data platform are Blackboard and Piazza\",\"The project data for students are on Blackboard not Piazza\"]\n",
    "\n"
   ]
  },
  {
   "cell_type": "code",
   "execution_count": 24,
   "id": "8b7267f5",
   "metadata": {},
   "outputs": [
    {
     "name": "stdout",
     "output_type": "stream",
     "text": [
      "[[1, 0, 1, 0], [1, 0, 1, 1], [1, 0, 1, 0], [1, 1, 0, 1], [1, 0, 1, 1], [0, 1, 0, 0], [0, 1, 0, 0], [0, 1, 0, 1], [0, 1, 1, 0], [0, 1, 1, 1]]\n"
     ]
    }
   ],
   "source": [
    "## Compute the values for the input matrix here ##\n",
    "Input_Matrix = [] # Create an empty array of input matrix\n",
    "def inputmatrix(matrix, uwords, sentences):\n",
    "    for i in range(len(uwords)):\n",
    "        matrix.append([])\n",
    "        for j in range(len(sentences)):\n",
    "            if uwords[i] in sentences[j].lower():\n",
    "                matrix[i].append(1)\n",
    "            else:\n",
    "                matrix[i].append(0)\n",
    "    return matrix\n",
    "\n",
    "Input_Matrix = inputmatrix(Input_Matrix,unique_words,Sentences)\n",
    "print(Input_Matrix)\n",
    "    "
   ]
  },
  {
   "cell_type": "code",
   "execution_count": 25,
   "id": "acf3c3dd",
   "metadata": {},
   "outputs": [],
   "source": [
    "Sig_M = [] # Create a MinHash signature matrix array with inf values"
   ]
  },
  {
   "cell_type": "code",
   "execution_count": 26,
   "id": "145bfafc",
   "metadata": {},
   "outputs": [],
   "source": [
    "# Generate hash functions"
   ]
  },
  {
   "cell_type": "code",
   "execution_count": 27,
   "id": "3f799a86",
   "metadata": {},
   "outputs": [],
   "source": [
    "def hash_1(x): return (x+3) % 10 + 1"
   ]
  },
  {
   "cell_type": "code",
   "execution_count": 28,
   "id": "0f0195cc",
   "metadata": {},
   "outputs": [],
   "source": [
    "def hash_2(x): return (7*x+1)%10 + 1"
   ]
  },
  {
   "cell_type": "code",
   "execution_count": 29,
   "id": "4a3c8256",
   "metadata": {},
   "outputs": [],
   "source": [
    "def hash_3(x): return (7*x + 2)%10 + 1 "
   ]
  },
  {
   "cell_type": "code",
   "execution_count": 30,
   "id": "e854ba69",
   "metadata": {},
   "outputs": [],
   "source": [
    "hash_list = [hash_1, hash_2, hash_3]"
   ]
  },
  {
   "cell_type": "code",
   "execution_count": 31,
   "id": "48f98f23",
   "metadata": {},
   "outputs": [
    {
     "name": "stdout",
     "output_type": "stream",
     "text": [
      "[[5, 6, 7, 8, 9, 10, 1, 2, 3, 4], [9, 6, 3, 10, 7, 4, 1, 8, 5, 2], [10, 7, 4, 1, 8, 5, 2, 9, 6, 3]]\n"
     ]
    }
   ],
   "source": [
    "def inputhash(func_list, imatrix):\n",
    "    hashlist = []\n",
    "    for func in func_list:\n",
    "        hash_values = []\n",
    "        for j in range(1, len(imatrix) + 1):\n",
    "            hash_value = func(j)\n",
    "            hash_values.append(hash_value)\n",
    "        hashlist.append(hash_values)\n",
    "    return hashlist\n",
    "\n",
    "ihash = inputhash(hash_list,Input_Matrix)\n",
    "print(inputhash(hash_list,Input_Matrix))"
   ]
  },
  {
   "cell_type": "code",
   "execution_count": 32,
   "id": "36c7acb8",
   "metadata": {},
   "outputs": [
    {
     "name": "stdout",
     "output_type": "stream",
     "text": [
      "[[inf, inf, inf, inf], [inf, inf, inf, inf], [inf, inf, inf, inf]]\n"
     ]
    }
   ],
   "source": [
    "# Make MinHash Signatur Matrix with inf\n",
    "Sig_M = [] # Create a MinHash signature matrix array with inf values\n",
    "\n",
    "def inf_sig_M(list, matrix):\n",
    "    num_rows = len(list)\n",
    "    num_cols = len(matrix[0])\n",
    "    smatrix = [[math.inf] * num_cols for _ in range(num_rows)]\n",
    "    return smatrix\n",
    "\n",
    "Sig_M = inf_sig_M(ihash,Input_Matrix)\n",
    "print(Sig_M)\n",
    "\n",
    "        \n"
   ]
  },
  {
   "cell_type": "code",
   "execution_count": 33,
   "metadata": {},
   "outputs": [
    {
     "name": "stdout",
     "output_type": "stream",
     "text": [
      "[[5, 1, 3, 2], [3, 1, 2, 2], [1, 1, 3, 1]]\n"
     ]
    }
   ],
   "source": [
    "## FUNCTION 1\n",
    "def minhashfunc(hashlist, imatrix, smatrix):\n",
    "    for a in range(len(hashlist)):\n",
    "        num = 1\n",
    "        for x in range(len(hashlist[a])):\n",
    "            for b in range(len(hashlist[a])):\n",
    "                if hashlist[a][b] == num:\n",
    "                    for c in range(len(imatrix[b])):\n",
    "                        if (imatrix[b][c] == 1 and smatrix[a][c] == math.inf):\n",
    "                            smatrix[a][c] = num\n",
    "                    break \n",
    "            num += 1  \n",
    "    return smatrix\n",
    "\n",
    "# Example usage\n",
    "Sig_M = minhashfunc(ihash, Input_Matrix, Sig_M)\n",
    "print(Sig_M)\n"
   ]
  },
  {
   "cell_type": "code",
   "execution_count": 34,
   "id": "56c9d088",
   "metadata": {},
   "outputs": [
    {
     "data": {
      "text/plain": [
       "[[5, 1, 3, 2], [3, 1, 2, 2], [1, 1, 3, 1]]"
      ]
     },
     "execution_count": 34,
     "metadata": {},
     "output_type": "execute_result"
    }
   ],
   "source": [
    "# print the updated MinHash signature matrix\n",
    "\n",
    "Sig_M"
   ]
  }
 ],
 "metadata": {
  "kernelspec": {
   "display_name": "Python 3 (ipykernel)",
   "language": "python",
   "name": "python3"
  },
  "language_info": {
   "codemirror_mode": {
    "name": "ipython",
    "version": 3
   },
   "file_extension": ".py",
   "mimetype": "text/x-python",
   "name": "python",
   "nbconvert_exporter": "python",
   "pygments_lexer": "ipython3",
   "version": "3.11.4"
  }
 },
 "nbformat": 4,
 "nbformat_minor": 5
}
